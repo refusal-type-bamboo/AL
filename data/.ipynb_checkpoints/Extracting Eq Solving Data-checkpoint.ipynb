{
 "cells": [
  {
   "cell_type": "code",
   "execution_count": 1,
   "id": "ff4b8ad7",
   "metadata": {},
   "outputs": [],
   "source": [
    "import pandas as pd\n",
    "filename = \"~/Desktop/Research/AL/tutorenvs/tutorenvs/data/data.txt\""
   ]
  },
  {
   "cell_type": "code",
   "execution_count": 2,
   "id": "0c9a0121",
   "metadata": {},
   "outputs": [],
   "source": [
    "df = pd.read_csv(filename, delimiter='\\t')"
   ]
  },
  {
   "cell_type": "code",
   "execution_count": 3,
   "id": "9aa750ef",
   "metadata": {
    "scrolled": false
   },
   "outputs": [
    {
     "ename": "NameError",
     "evalue": "name 'steps_by_problem' is not defined",
     "output_type": "error",
     "traceback": [
      "\u001b[0;31m---------------------------------------------------------------------------\u001b[0m",
      "\u001b[0;31mNameError\u001b[0m                                 Traceback (most recent call last)",
      "Input \u001b[0;32mIn [3]\u001b[0m, in \u001b[0;36m<cell line: 15>\u001b[0;34m()\u001b[0m\n\u001b[1;32m     12\u001b[0m                 stepsByProblem[vals]\u001b[38;5;241m.\u001b[39mappend((group_df\u001b[38;5;241m.\u001b[39miloc[i][\u001b[38;5;124m'\u001b[39m\u001b[38;5;124mStep Name\u001b[39m\u001b[38;5;124m'\u001b[39m], group_df\u001b[38;5;241m.\u001b[39miloc[i][\u001b[38;5;124m'\u001b[39m\u001b[38;5;124mSelection\u001b[39m\u001b[38;5;124m'\u001b[39m], group_df\u001b[38;5;241m.\u001b[39miloc[i][\u001b[38;5;124m'\u001b[39m\u001b[38;5;124mAction\u001b[39m\u001b[38;5;124m'\u001b[39m], group_df\u001b[38;5;241m.\u001b[39miloc[i][\u001b[38;5;124m'\u001b[39m\u001b[38;5;124mInput\u001b[39m\u001b[38;5;124m'\u001b[39m]))\n\u001b[1;32m     13\u001b[0m     \u001b[38;5;66;03m# print(stepsByProblem[vals])\u001b[39;00m\n\u001b[0;32m---> 15\u001b[0m \u001b[38;5;28;01mfor\u001b[39;00m a_problem \u001b[38;5;129;01min\u001b[39;00m \u001b[43msteps_by_problem\u001b[49m:\n\u001b[1;32m     16\u001b[0m     \u001b[38;5;28mprint\u001b[39m(a_problem)\n\u001b[1;32m     18\u001b[0m example \u001b[38;5;241m=\u001b[39m stepsByProblem[\u001b[38;5;124m\"\u001b[39m\u001b[38;5;124mEG40_0_equals_9x+8\u001b[39m\u001b[38;5;124m\"\u001b[39m]\n",
      "\u001b[0;31mNameError\u001b[0m: name 'steps_by_problem' is not defined"
     ]
    }
   ],
   "source": [
    "df = df[['Action', 'Session Id', 'Problem Name', 'Step Name', 'Outcome', 'Selection', 'Input']]\n",
    "# print(df)\n",
    "steps_by_problem = {}\n",
    "seen_problems = {}\n",
    "\n",
    "for vals, group_df in df.groupby(by=['Problem Name']):\n",
    "    if not (vals in seen_problems):\n",
    "        steps_by_problem[vals] = []\n",
    "        for i in range(len(group_df)):\n",
    "            if group_df.iloc[i]['Outcome'] == 'CORRECT':\n",
    "                steps_by_problem[vals].append((group_df.iloc[i]['Step Name'], group_df.iloc[i]['Selection'],\n",
    "                                                group_df.iloc[i]['Action'], group_df.iloc[i]['Input']))\n",
    "for a_problem in steps_by_problem:\n",
    "    print a_problem\n",
    "\n",
    "example = stepsByProblem[\"EG40_0_equals_9x+8\"]\n",
    "print(example)\n",
    "print()\n",
    "print(\"Problem name : %s\" % \"EG40_0_equals_9x+8\")\n",
    "print(\"Problem length: %s\" % len(example))\n"
   ]
  },
  {
   "cell_type": "code",
   "execution_count": null,
   "id": "8df1291c",
   "metadata": {},
   "outputs": [],
   "source": []
  }
 ],
 "metadata": {
  "kernelspec": {
   "display_name": "Python 3 (ipykernel)",
   "language": "python",
   "name": "python3"
  },
  "language_info": {
   "codemirror_mode": {
    "name": "ipython",
    "version": 3
   },
   "file_extension": ".py",
   "mimetype": "text/x-python",
   "name": "python",
   "nbconvert_exporter": "python",
   "pygments_lexer": "ipython3",
   "version": "3.9.13"
  }
 },
 "nbformat": 4,
 "nbformat_minor": 5
}
